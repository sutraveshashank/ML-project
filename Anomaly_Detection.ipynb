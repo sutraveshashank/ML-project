{
 "cells": [
  {
   "cell_type": "markdown",
   "id": "e5a33c08",
   "metadata": {
    "id": "e5a33c08"
   },
   "source": [
    "# Machine Learning Approaches for Anomaly Detection in Medical Devices"
   ]
  },
  {
   "cell_type": "code",
   "execution_count": null,
   "id": "ce5946dc",
   "metadata": {
    "id": "ce5946dc"
   },
   "outputs": [],
   "source": [
    "# Importing Libraries"
   ]
  },
  {
   "cell_type": "code",
   "execution_count": null,
   "id": "9kSKb-dZ4-4K",
   "metadata": {
    "colab": {
     "base_uri": "https://localhost:8080/"
    },
    "id": "9kSKb-dZ4-4K",
    "outputId": "c7b72cdb-835d-4a84-d892-78ea81e74155"
   },
   "outputs": [],
   "source": [
    "!pip install pandas\n",
    "!pip install numpy\n",
    "!pip install matplotlib\n",
    "!pip install seaborn\n",
    "!pip install scikit-learn\n",
    "!pip install imbalanced-learn\n",
    "!pip install xgboost\n",
    "!pip install joblib"
   ]
  },
  {
   "cell_type": "code",
   "execution_count": null,
   "id": "b1fea4bb",
   "metadata": {
    "id": "b1fea4bb"
   },
   "outputs": [],
   "source": [
    "import pandas as pd\n",
    "import numpy as np\n",
    "import matplotlib.pyplot as plt\n",
    "import seaborn as sns\n",
    "from sklearn.preprocessing import LabelEncoder\n",
    "from imblearn.over_sampling import SMOTE\n",
    "from sklearn.model_selection import train_test_split\n",
    "from sklearn.linear_model import LogisticRegression\n",
    "from xgboost import XGBClassifier\n",
    "import joblib\n",
    "import os\n",
    "from sklearn.metrics import precision_score\n",
    "from sklearn.metrics import recall_score\n",
    "from sklearn.metrics import f1_score\n",
    "from sklearn.metrics import accuracy_score,confusion_matrix,classification_report"
   ]
  },
  {
   "cell_type": "code",
   "execution_count": null,
   "id": "b9549c4a",
   "metadata": {
    "id": "b9549c4a"
   },
   "outputs": [],
   "source": [
    "# Importing Dataset"
   ]
  },
  {
   "cell_type": "code",
   "execution_count": null,
   "id": "a8626050",
   "metadata": {
    "id": "a8626050"
   },
   "outputs": [],
   "source": [
    "dataset = pd.read_csv(\"Dataset.csv\")\n",
    "\n"
   ]
  },
  {
   "cell_type": "code",
   "execution_count": null,
   "id": "b6cf8a4b",
   "metadata": {
    "colab": {
     "base_uri": "https://localhost:8080/",
     "height": 443
    },
    "id": "b6cf8a4b",
    "outputId": "ecb6c28d-cf1a-41c5-907f-8d2738e1dc18"
   },
   "outputs": [],
   "source": [
    "dataset"
   ]
  },
  {
   "cell_type": "code",
   "execution_count": null,
   "id": "db780d8a",
   "metadata": {
    "colab": {
     "base_uri": "https://localhost:8080/",
     "height": 235
    },
    "id": "db780d8a",
    "outputId": "9520e795-af43-41af-9ebf-ed61c2fbd2be"
   },
   "outputs": [],
   "source": [
    "dataset.head()"
   ]
  },
  {
   "cell_type": "code",
   "execution_count": null,
   "id": "ddd69a14",
   "metadata": {
    "colab": {
     "base_uri": "https://localhost:8080/"
    },
    "id": "ddd69a14",
    "outputId": "b8c301f5-b88d-4ad0-8d7a-d43c2b97bb80",
    "scrolled": true
   },
   "outputs": [],
   "source": [
    "dataset.info()"
   ]
  },
  {
   "cell_type": "code",
   "execution_count": null,
   "id": "b5ea05cb",
   "metadata": {
    "id": "b5ea05cb"
   },
   "outputs": [],
   "source": [
    "dataset.dropna(inplace=True)"
   ]
  },
  {
   "cell_type": "code",
   "execution_count": null,
   "id": "0d84a6ca",
   "metadata": {
    "colab": {
     "base_uri": "https://localhost:8080/",
     "height": 458
    },
    "id": "0d84a6ca",
    "outputId": "142cd4b4-173c-4c73-82d6-e8f7fbb9715e"
   },
   "outputs": [],
   "source": [
    "dataset.isnull().sum()"
   ]
  },
  {
   "cell_type": "code",
   "execution_count": null,
   "id": "d43b93a8",
   "metadata": {
    "colab": {
     "base_uri": "https://localhost:8080/",
     "height": 349
    },
    "id": "d43b93a8",
    "outputId": "30986c9b-bd14-4d61-e1af-6911c03c61a3"
   },
   "outputs": [],
   "source": [
    "dataset.describe()"
   ]
  },
  {
   "cell_type": "code",
   "execution_count": null,
   "id": "91ed8a9f",
   "metadata": {
    "colab": {
     "base_uri": "https://localhost:8080/",
     "height": 660
    },
    "id": "91ed8a9f",
    "outputId": "8e7f7ddd-8169-478c-fa58-504aa1bf5dad"
   },
   "outputs": [],
   "source": [
    "# Create a count plot\n",
    "sns.set(style=\"darkgrid\")  # Set the style of the plot\n",
    "plt.figure(figsize=(8, 6))  # Set the figure size\n",
    "# Replace 'dataset' with your actual DataFrame and 'Drug' with the column name\n",
    "ax = sns.countplot(x='class', data=dataset, palette=\"Set3\")\n",
    "plt.title(\"Count Plot\")  # Add a title to the plot\n",
    "plt.xlabel(\"Categories\")  # Add label to x-axis\n",
    "plt.ylabel(\"Count\")  # Add label to y-axis\n",
    "# Annotate each bar with its count value\n",
    "for p in ax.patches:\n",
    "    ax.annotate(f'{p.get_height()}', (p.get_x() + p.get_width() / 2., p.get_height()),\n",
    "                ha='center', va='center', fontsize=10, color='black', xytext=(0, 5),\n",
    "                textcoords='offset points')\n",
    "\n",
    "plt.show()  # Display the plot"
   ]
  },
  {
   "cell_type": "code",
   "execution_count": null,
   "id": "5a3e4a38",
   "metadata": {
    "id": "5a3e4a38"
   },
   "outputs": [],
   "source": [
    "# Converting object type to int type"
   ]
  },
  {
   "cell_type": "code",
   "execution_count": null,
   "id": "82324e55",
   "metadata": {
    "id": "82324e55"
   },
   "outputs": [],
   "source": [
    "le= LabelEncoder()\n",
    "dataset['class']=  le.fit_transform(dataset['class'])"
   ]
  },
  {
   "cell_type": "code",
   "execution_count": null,
   "id": "00cfa597",
   "metadata": {
    "colab": {
     "base_uri": "https://localhost:8080/",
     "height": 443
    },
    "id": "00cfa597",
    "outputId": "4763d939-4a72-44bf-92f9-f3d9ff77c546"
   },
   "outputs": [],
   "source": [
    "dataset"
   ]
  },
  {
   "cell_type": "code",
   "execution_count": null,
   "id": "12df2b75",
   "metadata": {
    "id": "12df2b75"
   },
   "outputs": [],
   "source": [
    "#Defining Dependent and independent variables"
   ]
  },
  {
   "cell_type": "code",
   "execution_count": null,
   "id": "7d08ea04",
   "metadata": {
    "id": "7d08ea04"
   },
   "outputs": [],
   "source": [
    "X=dataset.iloc[:,0:170]"
   ]
  },
  {
   "cell_type": "code",
   "execution_count": null,
   "id": "9d1c38d7",
   "metadata": {
    "colab": {
     "base_uri": "https://localhost:8080/",
     "height": 443
    },
    "id": "9d1c38d7",
    "outputId": "1a8be2ce-9e8a-4708-9fda-607af647fe4e"
   },
   "outputs": [],
   "source": [
    "X"
   ]
  },
  {
   "cell_type": "code",
   "execution_count": null,
   "id": "12300494",
   "metadata": {
    "id": "12300494"
   },
   "outputs": [],
   "source": [
    "y=dataset.iloc[:,-1]"
   ]
  },
  {
   "cell_type": "code",
   "execution_count": null,
   "id": "662200a9",
   "metadata": {
    "colab": {
     "base_uri": "https://localhost:8080/",
     "height": 458
    },
    "id": "662200a9",
    "outputId": "c3a5dcc6-d978-4127-d98c-81a29e396519"
   },
   "outputs": [],
   "source": [
    "y"
   ]
  },
  {
   "cell_type": "code",
   "execution_count": null,
   "id": "b9be2d1d",
   "metadata": {
    "id": "b9be2d1d"
   },
   "outputs": [],
   "source": [
    "#Datasplitting"
   ]
  },
  {
   "cell_type": "code",
   "execution_count": null,
   "id": "66c59af1",
   "metadata": {
    "id": "66c59af1"
   },
   "outputs": [],
   "source": [
    "X_train,X_test,y_train,y_test= train_test_split(X,y,test_size=0.20)"
   ]
  },
  {
   "cell_type": "code",
   "execution_count": null,
   "id": "fc59311a",
   "metadata": {
    "colab": {
     "base_uri": "https://localhost:8080/"
    },
    "id": "fc59311a",
    "outputId": "89d774c8-2d38-4ca0-8a45-ec0c0026d9da"
   },
   "outputs": [],
   "source": [
    "X_train.shape"
   ]
  },
  {
   "cell_type": "code",
   "execution_count": null,
   "id": "abf05e0b",
   "metadata": {
    "colab": {
     "base_uri": "https://localhost:8080/"
    },
    "id": "abf05e0b",
    "outputId": "fe96fc23-1214-4abd-e57b-4514141da691"
   },
   "outputs": [],
   "source": [
    "X_test.shape"
   ]
  },
  {
   "cell_type": "code",
   "execution_count": null,
   "id": "b0fc50d9",
   "metadata": {
    "colab": {
     "base_uri": "https://localhost:8080/"
    },
    "id": "b0fc50d9",
    "outputId": "9dc4cc6e-fca2-4395-eda6-82e45794b91c"
   },
   "outputs": [],
   "source": [
    "X_train.shape"
   ]
  },
  {
   "cell_type": "code",
   "execution_count": null,
   "id": "9da5d7ac",
   "metadata": {
    "colab": {
     "base_uri": "https://localhost:8080/"
    },
    "id": "9da5d7ac",
    "outputId": "ed82ec35-df1a-460e-90d1-43906c21ede6"
   },
   "outputs": [],
   "source": [
    "X_test.shape"
   ]
  },
  {
   "cell_type": "code",
   "execution_count": null,
   "id": "45e30f71",
   "metadata": {
    "id": "45e30f71"
   },
   "outputs": [],
   "source": [
    "#Building a ML Model"
   ]
  },
  {
   "cell_type": "code",
   "execution_count": null,
   "id": "25fc481c",
   "metadata": {
    "id": "25fc481c"
   },
   "outputs": [],
   "source": [
    "labels=['POSITIVE','NEGATIVE']"
   ]
  },
  {
   "cell_type": "code",
   "execution_count": null,
   "id": "918a93b6",
   "metadata": {
    "id": "918a93b6"
   },
   "outputs": [],
   "source": [
    "#defining global variables to store accuracy and other metrics\n",
    "precision = []\n",
    "recall = []\n",
    "fscore = []\n",
    "accuracy = []"
   ]
  },
  {
   "cell_type": "code",
   "execution_count": null,
   "id": "d6d1b39c",
   "metadata": {
    "id": "d6d1b39c"
   },
   "outputs": [],
   "source": [
    "#function to calculate various metrics such as accuracy, precision etc\n",
    "def calculateMetrics(algorithm, predict, testY):\n",
    "    testY = testY.astype('int')\n",
    "    predict = predict.astype('int')\n",
    "    p = precision_score(testY, predict,average='macro') * 100\n",
    "    r = recall_score(testY, predict,average='macro') * 100\n",
    "    f = f1_score(testY, predict,average='macro') * 100\n",
    "    a = accuracy_score(testY,predict)*100\n",
    "    accuracy.append(a)\n",
    "    precision.append(p)\n",
    "    recall.append(r)\n",
    "    fscore.append(f)\n",
    "    print(algorithm+' Accuracy    : '+str(a))\n",
    "    print(algorithm+' Precision   : '+str(p))\n",
    "    print(algorithm+' Recall      : '+str(r))\n",
    "    print(algorithm+' FSCORE      : '+str(f))\n",
    "    report=classification_report(predict, testY,target_names=labels)\n",
    "    print('\\n',algorithm+\" classification report\\n\",report)\n",
    "    conf_matrix = confusion_matrix(testY, predict)\n",
    "    plt.figure(figsize =(5, 5))\n",
    "    ax = sns.heatmap(conf_matrix, xticklabels = labels, yticklabels = labels, annot = True, cmap=\"Blues\" ,fmt =\"g\");\n",
    "    ax.set_ylim([0,len(labels)])\n",
    "    plt.title(algorithm+\" Confusion matrix\")\n",
    "    plt.ylabel('True class')\n",
    "    plt.xlabel('Predicted class')\n",
    "    plt.show()"
   ]
  },
  {
   "cell_type": "markdown",
   "id": "5a70ab40",
   "metadata": {
    "id": "5a70ab40"
   },
   "source": [
    "# Logistic Regression"
   ]
  },
  {
   "cell_type": "code",
   "execution_count": null,
   "id": "30f14caf",
   "metadata": {
    "colab": {
     "base_uri": "https://localhost:8080/",
     "height": 912
    },
    "id": "30f14caf",
    "outputId": "85e0fbf2-1a38-49a0-9e6e-79c736c87bd4"
   },
   "outputs": [],
   "source": [
    "if os.path.exists('Logistic Regression.pkl'):\n",
    "    # Load the trained model from the file\n",
    "    clf = joblib.load('Logistic Regression.pkl')\n",
    "    print(\"Model loaded successfully.\")\n",
    "    predict = clf.predict(X_test)\n",
    "    calculateMetrics(\"Logistic Regression\", predict, y_test)\n",
    "else:\n",
    "    # Train the model (assuming X_train and y_train are defined)\n",
    "    clf = LogisticRegression()\n",
    "    clf.fit(X_train, y_train)\n",
    "    # Save the trained model to a file\n",
    "    joblib.dump(clf, 'Logistic Regression.pkl')\n",
    "    print(\"Model saved successfully.\")\n",
    "    predict = clf.predict(X_test)\n",
    "    calculateMetrics(\"Logistic Regression\", predict, y_test)"
   ]
  },
  {
   "cell_type": "markdown",
   "id": "5e268227",
   "metadata": {
    "id": "5e268227"
   },
   "source": [
    "# XGBoost Classifier"
   ]
  },
  {
   "cell_type": "code",
   "execution_count": null,
   "id": "e2b6514c",
   "metadata": {
    "colab": {
     "base_uri": "https://localhost:8080/",
     "height": 774
    },
    "id": "e2b6514c",
    "outputId": "e0a6e3d1-fa4f-400a-d494-be98700f8f00"
   },
   "outputs": [],
   "source": [
    "# Check if the model files exist\n",
    "if os.path.exists('XGBClassifier.pkl'):\n",
    "    # Load the trained model from the file\n",
    "    clf = joblib.load('XGBClassifier.pkl')\n",
    "    print(\"Model loaded successfully.\")\n",
    "    predict = clf.predict(X_test)\n",
    "    calculateMetrics(\"XGBoost Classifier\", predict, y_test)\n",
    "else:\n",
    "    # Train the model (assuming X_train and y_train are defined)\n",
    "    clf = XGBClassifier(max_depth=100, random_state=0)\n",
    "    clf.fit(X_train, y_train)\n",
    "    # Save the trained model to a file\n",
    "    joblib.dump(clf, 'XGBClassifier.pkl')\n",
    "    print(\"Model saved successfuly.\")\n",
    "    predict = clf.predict(X_test)\n",
    "    calculateMetrics(\"XGBoostClassifier\", predict, y_test)"
   ]
  },
  {
   "cell_type": "code",
   "execution_count": null,
   "id": "aa22b6ae",
   "metadata": {
    "colab": {
     "base_uri": "https://localhost:8080/",
     "height": 125
    },
    "id": "aa22b6ae",
    "outputId": "896b415e-11be-42e4-a2bf-25074872b9de"
   },
   "outputs": [],
   "source": [
    "#showing all algorithms performance values\n",
    "columns = [\"Algorithm Name\",\"Accuracy\",\"Precison\",\"Recall\",\"FScore\"]\n",
    "values = []\n",
    "algorithm_names = [\"Logistic Regression\", \"XGBoostClassifier\"]\n",
    "for i in range(len(algorithm_names)):\n",
    "    values.append([algorithm_names[i],accuracy[i],precision[i],recall[i],fscore[i]])\n",
    "\n",
    "temp = pd.DataFrame(values,columns=columns)\n",
    "temp"
   ]
  },
  {
   "cell_type": "code",
   "execution_count": null,
   "id": "ee926a5b",
   "metadata": {
    "id": "ee926a5b"
   },
   "outputs": [],
   "source": [
    "# prediction"
   ]
  },
  {
   "cell_type": "code",
   "execution_count": null,
   "id": "da64e213",
   "metadata": {
    "id": "da64e213"
   },
   "outputs": [],
   "source": [
    "test=pd.read_csv(\"Test.csv\")"
   ]
  },
  {
   "cell_type": "code",
   "execution_count": null,
   "id": "9508e387",
   "metadata": {
    "colab": {
     "base_uri": "https://localhost:8080/",
     "height": 600
    },
    "id": "9508e387",
    "outputId": "1c74cc5f-ad61-43f4-eb00-2ad8fbf8da85"
   },
   "outputs": [],
   "source": [
    "test"
   ]
  },
  {
   "cell_type": "code",
   "execution_count": null,
   "id": "549d9409",
   "metadata": {
    "colab": {
     "base_uri": "https://localhost:8080/"
    },
    "id": "549d9409",
    "outputId": "93668ae8-e3e6-4df2-9e2e-af61de54054c"
   },
   "outputs": [],
   "source": [
    "\n",
    "# Make predictions on the selected test data\n",
    "predict = clf.predict(test)\n",
    "\n",
    "# Loop through each prediction and print the corresponding row\n",
    "for i, p in enumerate(predict):\n",
    "    if p == 0:\n",
    "        print(test.iloc[i])\n",
    "        print(\"Row {}:************************************************** POSITIVE\".format(i))\n",
    "\n",
    "    else:\n",
    "        print(test.iloc[i])\n",
    "        print(\"Row {}:************************************************** NEGATIVE\".format(i))\n",
    "\n"
   ]
  },
  {
   "cell_type": "code",
   "execution_count": null,
   "id": "4c62812f",
   "metadata": {
    "id": "4c62812f"
   },
   "outputs": [],
   "source": [
    "test['Predicted']=predict"
   ]
  },
  {
   "cell_type": "code",
   "execution_count": null,
   "id": "fd1787a0",
   "metadata": {
    "colab": {
     "base_uri": "https://localhost:8080/",
     "height": 600
    },
    "id": "fd1787a0",
    "outputId": "95943954-d140-4db5-e91b-95784eaa9c47"
   },
   "outputs": [],
   "source": [
    "test"
   ]
  },
  {
   "cell_type": "code",
   "execution_count": null,
   "id": "338b2cc4",
   "metadata": {
    "id": "338b2cc4"
   },
   "outputs": [],
   "source": []
  },
  {
   "cell_type": "code",
   "execution_count": null,
   "id": "ebee8bb4",
   "metadata": {
    "id": "ebee8bb4"
   },
   "outputs": [],
   "source": []
  }
 ],
 "metadata": {
  "colab": {
   "provenance": []
  },
  "kernelspec": {
   "display_name": "Python 3 (ipykernel)",
   "language": "python",
   "name": "python3"
  },
  "language_info": {
   "codemirror_mode": {
    "name": "ipython",
    "version": 3
   },
   "file_extension": ".py",
   "mimetype": "text/x-python",
   "name": "python",
   "nbconvert_exporter": "python",
   "pygments_lexer": "ipython3",
   "version": "3.7.6"
  },
  "varInspector": {
   "cols": {
    "lenName": 16,
    "lenType": 16,
    "lenVar": 40
   },
   "kernels_config": {
    "python": {
     "delete_cmd_postfix": "",
     "delete_cmd_prefix": "del ",
     "library": "var_list.py",
     "varRefreshCmd": "print(var_dic_list())"
    },
    "r": {
     "delete_cmd_postfix": ") ",
     "delete_cmd_prefix": "rm(",
     "library": "var_list.r",
     "varRefreshCmd": "cat(var_dic_list()) "
    }
   },
   "types_to_exclude": [
    "module",
    "function",
    "builtin_function_or_method",
    "instance",
    "_Feature"
   ],
   "window_display": false
  }
 },
 "nbformat": 4,
 "nbformat_minor": 5
}
